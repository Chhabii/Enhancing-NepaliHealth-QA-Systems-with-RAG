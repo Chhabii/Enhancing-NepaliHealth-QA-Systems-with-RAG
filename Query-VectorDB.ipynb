{
  "nbformat": 4,
  "nbformat_minor": 0,
  "metadata": {
    "colab": {
      "provenance": []
    },
    "kernelspec": {
      "name": "python3",
      "display_name": "Python 3"
    },
    "language_info": {
      "name": "python"
    }
  },
  "cells": [
    {
      "cell_type": "code",
      "source": [
        "!pip install -qU \\\n",
        "  pinecone-client==3.0.0 \\\n",
        "  pinecone-datasets==0.7.0 \\\n",
        "  sentence-transformers==2.2.2"
      ],
      "metadata": {
        "colab": {
          "base_uri": "https://localhost:8080/"
        },
        "id": "hZ_iD5DUSCHd",
        "outputId": "08bc76dd-702a-40d3-ef56-80475abbdfdd"
      },
      "execution_count": null,
      "outputs": [
        {
          "output_type": "stream",
          "name": "stdout",
          "text": [
            "\u001b[?25l     \u001b[90m━━━━━━━━━━━━━━━━━━━━━━━━━━━━━━━━━━━━━━━━\u001b[0m \u001b[32m0.0/199.9 kB\u001b[0m \u001b[31m?\u001b[0m eta \u001b[36m-:--:--\u001b[0m\r\u001b[2K     \u001b[91m━━━━━━━━━━━━━━━━━━━━━━━━━━━━━━━━━━━━━━\u001b[0m\u001b[91m╸\u001b[0m\u001b[90m━\u001b[0m \u001b[32m194.6/199.9 kB\u001b[0m \u001b[31m5.5 MB/s\u001b[0m eta \u001b[36m0:00:01\u001b[0m\r\u001b[2K     \u001b[90m━━━━━━━━━━━━━━━━━━━━━━━━━━━━━━━━━━━━━━━━\u001b[0m \u001b[32m199.9/199.9 kB\u001b[0m \u001b[31m4.1 MB/s\u001b[0m eta \u001b[36m0:00:00\u001b[0m\n",
            "\u001b[?25h\u001b[?25l     \u001b[90m━━━━━━━━━━━━━━━━━━━━━━━━━━━━━━━━━━━━━━━━\u001b[0m \u001b[32m0.0/86.0 kB\u001b[0m \u001b[31m?\u001b[0m eta \u001b[36m-:--:--\u001b[0m\r\u001b[2K     \u001b[90m━━━━━━━━━━━━━━━━━━━━━━━━━━━━━━━━━━━━━━━━\u001b[0m \u001b[32m86.0/86.0 kB\u001b[0m \u001b[31m8.1 MB/s\u001b[0m eta \u001b[36m0:00:00\u001b[0m\n",
            "\u001b[?25h  Preparing metadata (setup.py) ... \u001b[?25l\u001b[?25hdone\n",
            "\u001b[2K     \u001b[90m━━━━━━━━━━━━━━━━━━━━━━━━━━━━━━━━━━━━━━━━\u001b[0m \u001b[32m13.0/13.0 MB\u001b[0m \u001b[31m29.7 MB/s\u001b[0m eta \u001b[36m0:00:00\u001b[0m\n",
            "\u001b[2K     \u001b[90m━━━━━━━━━━━━━━━━━━━━━━━━━━━━━━━━━━━━━━━━\u001b[0m \u001b[32m34.9/34.9 MB\u001b[0m \u001b[31m17.7 MB/s\u001b[0m eta \u001b[36m0:00:00\u001b[0m\n",
            "\u001b[2K     \u001b[90m━━━━━━━━━━━━━━━━━━━━━━━━━━━━━━━━━━━━━━━━\u001b[0m \u001b[32m3.1/3.1 MB\u001b[0m \u001b[31m80.5 MB/s\u001b[0m eta \u001b[36m0:00:00\u001b[0m\n",
            "\u001b[2K     \u001b[90m━━━━━━━━━━━━━━━━━━━━━━━━━━━━━━━━━━━━━━━━\u001b[0m \u001b[32m345.4/345.4 kB\u001b[0m \u001b[31m26.2 MB/s\u001b[0m eta \u001b[36m0:00:00\u001b[0m\n",
            "\u001b[2K     \u001b[90m━━━━━━━━━━━━━━━━━━━━━━━━━━━━━━━━━━━━━━━━\u001b[0m \u001b[32m76.1/76.1 kB\u001b[0m \u001b[31m8.3 MB/s\u001b[0m eta \u001b[36m0:00:00\u001b[0m\n",
            "\u001b[2K     \u001b[90m━━━━━━━━━━━━━━━━━━━━━━━━━━━━━━━━━━━━━━━━\u001b[0m \u001b[32m73.5/73.5 kB\u001b[0m \u001b[31m7.1 MB/s\u001b[0m eta \u001b[36m0:00:00\u001b[0m\n",
            "\u001b[2K     \u001b[90m━━━━━━━━━━━━━━━━━━━━━━━━━━━━━━━━━━━━━━━━\u001b[0m \u001b[32m73.4/73.4 kB\u001b[0m \u001b[31m8.0 MB/s\u001b[0m eta \u001b[36m0:00:00\u001b[0m\n",
            "\u001b[2K     \u001b[90m━━━━━━━━━━━━━━━━━━━━━━━━━━━━━━━━━━━━━━━━\u001b[0m \u001b[32m11.1/11.1 MB\u001b[0m \u001b[31m81.4 MB/s\u001b[0m eta \u001b[36m0:00:00\u001b[0m\n",
            "\u001b[2K     \u001b[90m━━━━━━━━━━━━━━━━━━━━━━━━━━━━━━━━━━━━━━━━\u001b[0m \u001b[32m143.8/143.8 kB\u001b[0m \u001b[31m14.4 MB/s\u001b[0m eta \u001b[36m0:00:00\u001b[0m\n",
            "\u001b[?25h  Building wheel for sentence-transformers (setup.py) ... \u001b[?25l\u001b[?25hdone\n",
            "\u001b[31mERROR: pip's dependency resolver does not currently take into account all the packages that are installed. This behaviour is the source of the following dependency conflicts.\n",
            "lida 0.0.10 requires fastapi, which is not installed.\n",
            "lida 0.0.10 requires kaleido, which is not installed.\n",
            "lida 0.0.10 requires python-multipart, which is not installed.\n",
            "lida 0.0.10 requires uvicorn, which is not installed.\n",
            "llmx 0.0.15a0 requires cohere, which is not installed.\n",
            "llmx 0.0.15a0 requires openai, which is not installed.\n",
            "llmx 0.0.15a0 requires tiktoken, which is not installed.\n",
            "bigframes 0.20.1 requires pandas<2.1.4,>=1.5.0, but you have pandas 2.2.0 which is incompatible.\n",
            "datasets 2.17.0 requires pyarrow>=12.0.0, but you have pyarrow 11.0.0 which is incompatible.\n",
            "google-colab 1.0.0 requires pandas==1.5.3, but you have pandas 2.2.0 which is incompatible.\u001b[0m\u001b[31m\n",
            "\u001b[0m"
          ]
        }
      ]
    },
    {
      "cell_type": "code",
      "execution_count": null,
      "metadata": {
        "colab": {
          "base_uri": "https://localhost:8080/"
        },
        "id": "4rbpDD33Re5K",
        "outputId": "fbff74ed-00a0-49ea-d37e-b7a9e4c8d02f"
      },
      "outputs": [
        {
          "output_type": "stream",
          "name": "stdout",
          "text": [
            "cpu\n"
          ]
        },
        {
          "output_type": "execute_result",
          "data": {
            "text/plain": [
              "SentenceTransformer(\n",
              "  (0): Transformer({'max_seq_length': 128, 'do_lower_case': False}) with Transformer model: XLMRobertaModel \n",
              "  (1): Pooling({'word_embedding_dimension': 768, 'pooling_mode_cls_token': False, 'pooling_mode_mean_tokens': True, 'pooling_mode_max_tokens': False, 'pooling_mode_mean_sqrt_len_tokens': False, 'pooling_mode_weightedmean_tokens': False, 'pooling_mode_lasttoken': False})\n",
              ")"
            ]
          },
          "metadata": {},
          "execution_count": 6
        }
      ],
      "source": [
        "import torch\n",
        "from sentence_transformers import SentenceTransformer\n",
        "device = \"cuda\" if torch.cuda.is_available() else \"cpu\"\n",
        "print(device)\n",
        "retriever = SentenceTransformer(\"sentence-transformers/paraphrase-multilingual-mpnet-base-v2\",device=device)\n",
        "retriever"
      ]
    },
    {
      "cell_type": "code",
      "source": [
        "from pinecone import Pinecone,PodSpec\n",
        "\n",
        "# connect to pinecone environment\n",
        "pc=Pinecone(\n",
        "    api_key=\"95e66ee2-5711-41b7-8655-00761c0b3729\",\n",
        ")\n",
        "pc.list_indexes()"
      ],
      "metadata": {
        "colab": {
          "base_uri": "https://localhost:8080/"
        },
        "id": "6HhXhmY8Twgo",
        "outputId": "28126129-21b1-47e3-8354-d42796e33982"
      },
      "execution_count": null,
      "outputs": [
        {
          "output_type": "execute_result",
          "data": {
            "text/plain": [
              "{'indexes': [{'dimension': 768,\n",
              "              'host': 'nepali-healthqa-lpqyynm.svc.gcp-starter.pinecone.io',\n",
              "              'metric': 'cosine',\n",
              "              'name': 'nepali-healthqa',\n",
              "              'spec': {'pod': {'environment': 'gcp-starter',\n",
              "                               'pod_type': 'starter',\n",
              "                               'pods': 1,\n",
              "                               'replicas': 1,\n",
              "                               'shards': 1}},\n",
              "              'status': {'ready': True, 'state': 'Ready'}}]}"
            ]
          },
          "metadata": {},
          "execution_count": 7
        }
      ]
    },
    {
      "cell_type": "code",
      "source": [
        "query = \"म धेरै थकित महसुस गर्छु र मेरो नाक बगिरहेको छ। साथै, मलाई घाँटी दुखेको छ र अलि टाउको दुखेको छ। मलाई के भइरहेको छ?\"\n",
        "query = retriever.encode(query)\n",
        "index_name = \"nepali-healthqa\"\n",
        "index = pc.Index(index_name)\n",
        "results = index.query(vector=query.tolist(), top_k=2,include_metadata=True) #include_values=True\n",
        "# results\n",
        "answer = results['matches'][0]['metadata']\n",
        "print(answer)\n"
      ],
      "metadata": {
        "colab": {
          "base_uri": "https://localhost:8080/"
        },
        "id": "1CPrwK-bR4wo",
        "outputId": "2b026a1c-c2cc-4db4-b2f7-010dca4826cc"
      },
      "execution_count": null,
      "outputs": [
        {
          "output_type": "stream",
          "name": "stdout",
          "text": [
            "{'Answer': 'चिसो लक्षणहरूमा अक्सर लगातार हाच्छ्युँ गर्नु र नाक बग्नु समावेश छ। राम्रो महसुस गर्न:\\nपानी, सूप र तातो चियाले हाइड्रेटेड रहनुहोस्।\\nआराम गर्नुहोस् र पर्याप्त सुत्नुहोस्।\\nरुघाखोकीको औषधि लिनुहोस्', 'Question': 'मलाई यो निरन्तर हाछ्युँ र नाक बगिरहेको छ। के यो सामान्य चिसो हुन सक्छ, कुनै सल्लाह?'}\n"
          ]
        }
      ]
    },
    {
      "cell_type": "code",
      "source": [
        "query = \"मलाई कोविड लागेको छ, अलि अलि ज्वोरो पनि आएको छ,टाउको दुख्ने समस्या पनि रहेको छ । शितामोल खाएको सन्चो भएको छैन अझै । \"\n",
        "query = retriever.encode(query)\n",
        "index_name = \"nepali-healthqa\"\n",
        "index = pc.Index(index_name)\n",
        "\n",
        "results = index.query(vector=query.tolist(), top_k=5,include_metadata=True) #include_values=True\n",
        "print(results)\n",
        "answer = results['matches'][0]['metadata']['Answer']\n",
        "print(answer)\n"
      ],
      "metadata": {
        "colab": {
          "base_uri": "https://localhost:8080/"
        },
        "id": "3Kdi3owJT8qa",
        "outputId": "10e5f57b-5158-477c-d0ac-670cd71495d4"
      },
      "execution_count": null,
      "outputs": [
        {
          "output_type": "stream",
          "name": "stdout",
          "text": [
            "{'matches': [{'id': '4890',\n",
            "              'metadata': {'Answer': '– बसेको अवस्थामा पनि चक्कर लाग्ने समस्या '\n",
            "                                     'हुन्छ ।\\n'\n",
            "                                     '- यो विभिन्न चीजहरूको कारणले हुन सक्छ वा '\n",
            "                                     'यो आफैमा टाढा हुन सक्छ।\\n'\n",
            "                                     '- के तपाईलाई चक्कर लाग्ने अन्य लक्षणहरू '\n",
            "                                     'छन्?\\n'\n",
            "                                     '- यदि चक्कर आनाले तपाईको दैनिक जीवनमा '\n",
            "                                     'असर गरिरहेको छैन भने, तपाइँ केहि दिन '\n",
            "                                     'पर्खन सक्नुहुन्छ।\\n'\n",
            "                                     '- आफ्नो ख्याल राख्नुहोस् र '\n",
            "                                     'नआत्तिनुहोस्।\\n'\n",
            "                                     '- यदि समस्या जारी रह्यो भने, सकेसम्म '\n",
            "                                     'चाँडो चिकित्सकलाई देखाउनुहोस्।\\n'\n",
            "                                     '- डाक्टरले चक्कर लाग्नुको कारण पत्ता '\n",
            "                                     'लगाउन केही परीक्षणहरू सिफारिस गर्न '\n",
            "                                     'सक्छ।\\n'\n",
            "                                     '- परीक्षणहरूमा तपाईंको ब्यालेन्स प्रणाली '\n",
            "                                     'जाँच गर्न रगत परीक्षण र परीक्षणहरू '\n",
            "                                     'समावेश हुन सक्छन्।\\n'\n",
            "                                     '- तपाईंको स्थानीय चिकित्सक वा जीपीले '\n",
            "                                     'तपाईंको पूर्ण इतिहास सुनेपछि र तापक्रम, '\n",
            "                                     'पल्स, र रक्तचाप सहितको गहिरो जाँच गरेपछि '\n",
            "                                     'यी परीक्षणहरू अर्डर गर्न सक्नुहुन्छ।\\n'\n",
            "                                     '- यी परीक्षणहरूले डाक्टरलाई निदान गर्न '\n",
            "                                     'मद्दत गर्नेछ।',\n",
            "                           'Question': 'म एक महिनादेखि किन चक्कर आइरहेको छु? '\n",
            "                                       'मैले भर्खरै मेथ चुरोट गरें, यो '\n",
            "                                       'सम्बन्धित हुन सक्छ? केही मानिसहरूले '\n",
            "                                       'भित्री कानको संक्रमण उल्लेख गरे।'},\n",
            "              'score': 0.77046,\n",
            "              'values': []},\n",
            "             {'id': '2493',\n",
            "              'metadata': {'Answer': '- पेटको दुखाइ ढाडको तल्लो भागमा फैलिने '\n",
            "                                     'गम्भीर कोलाइटिस वा पीआईडीको कारणले '\n",
            "                                     'हुन्छ।\\n'\n",
            "                                     '-खाना पछि दुखाइ बढ्छ।\\n'\n",
            "                                     '- यी लक्षणहरू सामान्य शूलका कारण नभएकाले '\n",
            "                                     'अर्को चिकित्सकसँग परामर्श लिनुहोस्।\\n'\n",
            "                                     '- एक विशेषज्ञ द्वारा मूल्याङ्कन र '\n",
            "                                     'एन्टिबायोटिक्स, मेट्रोनिडाजोल, र राहत को '\n",
            "                                     'लागी एन्टिस्पास्मोडिक औषधि को '\n",
            "                                     'प्रिस्क्रिप्शन चाहिन्छ।\\n'\n",
            "                                     '– पानीजन्य रोगबाट बच्न उमालेको र चिसो '\n",
            "                                     'पानी पिउने र घरको ताजा खानेकुरा खाने ।\\n'\n",
            "                                     '- पेट दुखाइ गम्भीर कोलाइटिस वा PID को '\n",
            "                                     'संकेत हुन सक्छ।\\n'\n",
            "                                     '-खाना पछि दुखाइ बढ्छ।\\n'\n",
            "                                     '- यी लक्षणहरू सामान्य नभएकाले अर्को '\n",
            "                                     'डाक्टरबाट दोस्रो राय लिनुहोस्।\\n'\n",
            "                                     '- एक विशेषज्ञले तपाइँको अवस्थाको '\n",
            "                                     'मूल्याङ्कन गर्नेछ र एन्टिबायोटिक्स, '\n",
            "                                     'मेट्रोनिडाजोल, र एन्टिस्पास्मोडिक '\n",
            "                                     'औषधिलाई दुखाइ कम गर्न सिफारिस गर्नेछ।\\n'\n",
            "                                     '– पानीजन्य रोगबाट बच्न उमालेको र चिसो '\n",
            "                                     'पानी पिउने र घरको ताजा खानेकुरा खाने ।',\n",
            "                           'Question': 'मलाई कडा पेट र तल्लो ढाड दुखाइ छ जुन '\n",
            "                                       'आउँछ र जान्छ। यो खाए पछि वा केहि घण्टा '\n",
            "                                       'पछि खराब हुन्छ। मेरो डाक्टरले यो '\n",
            "                                       'सामान्य पेट दुख्ने समस्या हो भन्छ, तर '\n",
            "                                       'दुखाइ असह्य छ र म काम गर्न सक्दिन। '\n",
            "                                       'मैले के गर्नुपर्छ?'},\n",
            "              'score': 0.76344651,\n",
            "              'values': []},\n",
            "             {'id': '6468',\n",
            "              'metadata': {'Answer': '- तपाईंले आफ्नो एपेन्डिक्स क्षेत्रमा '\n",
            "                                     'दुखाइको अनुभव गरिरहनुभएको हुन सक्छ।\\n'\n",
            "                                     '- तपाईलाई आफ्नो घाँटीमा खाना अड्किएको '\n",
            "                                     'जस्तो महसुस हुन सक्छ र तपाईलाई वाकवाकी '\n",
            "                                     'महसुस भए पनि खाने इच्छा हुन्छ।\\n'\n",
            "                                     '- तपाईलाई ज्वरो आएको छ वा छैन थाहा पाउन '\n",
            "                                     'जरुरी छ ।\\n'\n",
            "                                     '- डाक्टरले निदान पुष्टि गर्न तपाईंको पेट '\n",
            "                                     'र श्रोणिको अल्ट्रासाउन्ड सिफारिस गर्न '\n",
            "                                     'सक्छ।\\n'\n",
            "                                     '- डाक्टरले दाहिने तल्लो पेटमा रिबाउन्ड '\n",
            "                                     'कोमलताको लागि पनि जाँच गर्न सक्छ, जुन '\n",
            "                                     'अचानक दबाब जारी हुँदा गम्भीर दुखाइ '\n",
            "                                     'हुन्छ।\\n'\n",
            "                                     '- यसले तीव्र एपेन्डिसाइटिसलाई संकेत गर्न '\n",
            "                                     'सक्छ, र उपचार एपेन्डिसेक्टोमी नामक '\n",
            "                                     'शल्यक्रिया मार्फत एपेन्डिक्स हटाउनेछ।\\n'\n",
            "                                     '- यदि तपाईंले पिसाबसम्बन्धी कुनै गुनासो '\n",
            "                                     'उल्लेख गर्नुभएको छैन भने तपाईंको '\n",
            "                                     'लक्षणहरू मृगौलाको पत्थरीको कारणले हुने '\n",
            "                                     'सम्भावना कम हुन्छ।\\n'\n",
            "                                     '- मलाई आशा छ कि यो जानकारीले मद्दत गर्दछ '\n",
            "                                     'र म तपाईंलाई राम्रो स्वास्थ्यको कामना '\n",
            "                                     'गर्दछु।',\n",
            "                           'Question': 'मेरो तल्लो दाहिने पेट र दाहिने '\n",
            "                                       'पेल्विक/हिप क्षेत्रमा दुखाइ छ। '\n",
            "                                       'कहिलेकाहीँ यस्तो लाग्छ कि मेरो '\n",
            "                                       'माथिल्लो पाखुरा निचोडिएको छ र म प्रायः '\n",
            "                                       'धेरै भरिएको महसुस गर्छु, नखाए पनि। के '\n",
            "                                       'यी लक्षणहरू सम्बन्धित छन्?'},\n",
            "              'score': 0.75455153,\n",
            "              'values': []},\n",
            "             {'id': '954',\n",
            "              'metadata': {'Answer': '1. तपाईलाई ग्यास्ट्राइटिस हुन सक्छ, जसले '\n",
            "                                     'खाना खाएपछि पेट दुख्ने गर्छ।\\n'\n",
            "                                     '2. यो तपाईलाई ज्वरो, वाकवाकी, र पेट '\n",
            "                                     'फुल्ने समस्याहरूसँग सम्बन्धित हुन सक्छ।\\n'\n",
            "                                     '3. कारण आन्द्राको ज्वरो वा औषधिको साइड '\n",
            "                                     'इफेक्ट भनिने अवस्था हुन सक्छ।\\n'\n",
            "                                     '4. क्लिनिकल मूल्याङ्कन र थप परीक्षणहरूको '\n",
            "                                     'लागि डाक्टरलाई भेट्न सिफारिस गरिन्छ।\\n'\n",
            "                                     '5. यस बीचमा, तपाईं आफ्नो लक्षणहरू कम '\n",
            "                                     'गर्न Omeprazole, domperidone, antacid '\n",
            "                                     'gel, र अन्य उपचारहरू लिन सुरु गर्न '\n",
            "                                     'सक्नुहुन्छ।',\n",
            "                           'Question': 'खाना खाएपछि पेट दुख्छ । दुखाइ एक घण्टा '\n",
            "                                       'पछि हट्छ, तर म फेरि खाए पछि फर्कन्छ। '\n",
            "                                       'मलाई ज्वरो, वाकवाकी, र फुल्ने पनि छ '\n",
            "                                       'जुन हट्दैन। के तपाईं मलाई के गलत छ '\n",
            "                                       'भनेर पत्ता लगाउन मद्दत गर्न '\n",
            "                                       'सक्नुहुन्छ?'},\n",
            "              'score': 0.749023378,\n",
            "              'values': []},\n",
            "             {'id': '6991',\n",
            "              'metadata': {'Answer': '1. तपाई डाक्टरकहाँ फर्किनु पर्छ।\\n'\n",
            "                                     '2. साइनस संक्रमणले तपाईंको फोक्सोमा दम '\n",
            "                                     'जस्तो लक्षणहरू निम्त्याउन सक्छ।\\n'\n",
            "                                     '3. यी लक्षणहरूमा कसर, खोकी, र सास फेर्न '\n",
            "                                     'गाह्रो हुन सक्छ।\\n'\n",
            "                                     '4. साइनस संक्रमण हराएको हुन सक्छ, तर '\n",
            "                                     'लक्षणहरू अझै पनि हुन सक्छ।\\n'\n",
            "                                     '5. डाक्टरले तपाईंको फोक्सोको घरघराहट '\n",
            "                                     'सुन्न सक्छ।\\n'\n",
            "                                     '6. यो फरक उपचार आवश्यक हुनेछ।\\n'\n",
            "                                     '7. डाक्टरले निमोनिया पनि जाँच गर्न '\n",
            "                                     'सक्छ।\\n'\n",
            "                                     '8. गम्भीर साइनस संक्रमणबाट निमोनिया हुन '\n",
            "                                     'सक्छ।\\n'\n",
            "                                     '9. मलाई आशा छ कि यसले तपाईंको प्रश्नको '\n",
            "                                     'जवाफ दिन्छ।\\n'\n",
            "                                     '10. यदि तपाईंसँग थप प्रश्नहरू छन् भने, म '\n",
            "                                     'तिनीहरूलाई जवाफ दिन सक्छु।',\n",
            "                           'Question': 'के मैले मेरो लामो साइनस संक्रमणको लागि '\n",
            "                                       'डाक्टरलाई फेरि भेट्नुपर्छ? म Avelox '\n",
            "                                       'लिइरहेको छु तर अझै पनि खोकी लाग्दैछ, '\n",
            "                                       'कसिलोपन र सास फेर्न गाह्रो भएको महसुस '\n",
            "                                       'गर्दैछु, र मेरो छाती भारी छ।'},\n",
            "              'score': 0.739028633,\n",
            "              'values': []}],\n",
            " 'namespace': '',\n",
            " 'usage': {'read_units': 6}}\n",
            "– बसेको अवस्थामा पनि चक्कर लाग्ने समस्या हुन्छ ।\n",
            "- यो विभिन्न चीजहरूको कारणले हुन सक्छ वा यो आफैमा टाढा हुन सक्छ।\n",
            "- के तपाईलाई चक्कर लाग्ने अन्य लक्षणहरू छन्?\n",
            "- यदि चक्कर आनाले तपाईको दैनिक जीवनमा असर गरिरहेको छैन भने, तपाइँ केहि दिन पर्खन सक्नुहुन्छ।\n",
            "- आफ्नो ख्याल राख्नुहोस् र नआत्तिनुहोस्।\n",
            "- यदि समस्या जारी रह्यो भने, सकेसम्म चाँडो चिकित्सकलाई देखाउनुहोस्।\n",
            "- डाक्टरले चक्कर लाग्नुको कारण पत्ता लगाउन केही परीक्षणहरू सिफारिस गर्न सक्छ।\n",
            "- परीक्षणहरूमा तपाईंको ब्यालेन्स प्रणाली जाँच गर्न रगत परीक्षण र परीक्षणहरू समावेश हुन सक्छन्।\n",
            "- तपाईंको स्थानीय चिकित्सक वा जीपीले तपाईंको पूर्ण इतिहास सुनेपछि र तापक्रम, पल्स, र रक्तचाप सहितको गहिरो जाँच गरेपछि यी परीक्षणहरू अर्डर गर्न सक्नुहुन्छ।\n",
            "- यी परीक्षणहरूले डाक्टरलाई निदान गर्न मद्दत गर्नेछ।\n"
          ]
        }
      ]
    },
    {
      "cell_type": "code",
      "source": [],
      "metadata": {
        "colab": {
          "base_uri": "https://localhost:8080/"
        },
        "id": "sRd2lnOlUIST",
        "outputId": "04f1cf22-038b-4c0e-afa6-0961b775337c"
      },
      "execution_count": null,
      "outputs": [
        {
          "output_type": "stream",
          "name": "stdout",
          "text": [
            "{'Answer': 'चिसो लक्षणहरूमा अक्सर लगातार हाच्छ्युँ गर्नु र नाक बग्नु समावेश छ। राम्रो महसुस गर्न:\\nपानी, सूप र तातो चियाले हाइड्रेटेड रहनुहोस्।\\nआराम गर्नुहोस् र पर्याप्त सुत्नुहोस्।\\nरुघाखोकीको औषधि लिनुहोस्', 'Question': 'मलाई यो निरन्तर हाछ्युँ र नाक बगिरहेको छ। के यो सामान्य चिसो हुन सक्छ, कुनै सल्लाह?'}\n"
          ]
        }
      ]
    },
    {
      "cell_type": "code",
      "source": [],
      "metadata": {
        "id": "rvvzmiNWUXVs"
      },
      "execution_count": null,
      "outputs": []
    }
  ]
}